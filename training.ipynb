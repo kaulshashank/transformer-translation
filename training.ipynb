{
 "cells": [
  {
   "cell_type": "code",
   "execution_count": 1,
   "metadata": {},
   "outputs": [],
   "source": [
    "from train import train_model\n",
    "from config import get_config"
   ]
  },
  {
   "cell_type": "code",
   "execution_count": 2,
   "metadata": {},
   "outputs": [
    {
     "name": "stdout",
     "output_type": "stream",
     "text": [
      "Using device: cuda\n",
      "Device name: NVIDIA GeForce RTX 3060 Laptop GPU\n",
      "Device memory: 5.79876708984375 GB\n",
      "Max length of source sentence: 50\n",
      "Max length of target sentence: 98\n",
      "No model to preload, starting from scratch\n"
     ]
    },
    {
     "name": "stderr",
     "output_type": "stream",
     "text": [
      "Processing Epoch 00: 100%|██████████| 1800/1800 [11:08<00:00,  2.69it/s, loss=3.597]\n",
      "stty: 'standard input': Inappropriate ioctl for device\n"
     ]
    },
    {
     "name": "stdout",
     "output_type": "stream",
     "text": [
      "--------------------------------------------------------------------------------\n",
      "    SOURCE: Eliminator\n",
      "    TARGET: एलीवेटर\n",
      " PREDICTED: चोर\n",
      "--------------------------------------------------------------------------------\n",
      "    SOURCE: _ About\n",
      "    TARGET: के बारे में (_ A) \n",
      " PREDICTED: इस खेल में\n",
      "--------------------------------------------------------------------------------\n"
     ]
    },
    {
     "name": "stderr",
     "output_type": "stream",
     "text": [
      "/home/kaulshashank/.local/lib/python3.11/site-packages/torchmetrics/utilities/prints.py:62: FutureWarning: Importing `CharErrorRate` from `torchmetrics` was deprecated and will be removed in 2.0. Import `CharErrorRate` from `torchmetrics.text` instead.\n",
      "  _future_warning(\n",
      "/home/kaulshashank/.local/lib/python3.11/site-packages/torchmetrics/utilities/prints.py:62: FutureWarning: Importing `WordErrorRate` from `torchmetrics` was deprecated and will be removed in 2.0. Import `WordErrorRate` from `torchmetrics.text` instead.\n",
      "  _future_warning(\n",
      "/home/kaulshashank/.local/lib/python3.11/site-packages/torchmetrics/utilities/prints.py:62: FutureWarning: Importing `BLEUScore` from `torchmetrics` was deprecated and will be removed in 2.0. Import `BLEUScore` from `torchmetrics.text` instead.\n",
      "  _future_warning(\n",
      "Processing Epoch 01: 100%|██████████| 1800/1800 [12:06<00:00,  2.48it/s, loss=2.073]\n",
      "stty: 'standard input': Inappropriate ioctl for device\n"
     ]
    },
    {
     "name": "stdout",
     "output_type": "stream",
     "text": [
      "--------------------------------------------------------------------------------\n",
      "    SOURCE: Remove the eights\n",
      "    TARGET: अट्ठा मिटाएँ\n",
      " PREDICTED: अट्ठा मिटाएँ\n",
      "--------------------------------------------------------------------------------\n",
      "    SOURCE: Title\n",
      "    TARGET: शीर्षक\n",
      " PREDICTED: शीर्षकः\n",
      "--------------------------------------------------------------------------------\n"
     ]
    },
    {
     "name": "stderr",
     "output_type": "stream",
     "text": [
      "Processing Epoch 02: 100%|██████████| 1800/1800 [11:38<00:00,  2.58it/s, loss=1.469]\n",
      "stty: 'standard input': Inappropriate ioctl for device\n"
     ]
    },
    {
     "name": "stdout",
     "output_type": "stream",
     "text": [
      "--------------------------------------------------------------------------------\n",
      "    SOURCE: the queen of spades\n",
      "    TARGET: हुकुम की बेगम\n",
      " PREDICTED: हुकुम की बेगम\n",
      "--------------------------------------------------------------------------------\n",
      "    SOURCE: _ Full Screen\n",
      "    TARGET: पूर्ण स्क्रीन (_ F) \n",
      " PREDICTED: पूर्ण स्क्रीन ( _ F )\n",
      "--------------------------------------------------------------------------------\n"
     ]
    },
    {
     "name": "stderr",
     "output_type": "stream",
     "text": [
      "Processing Epoch 03: 100%|██████████| 1800/1800 [11:31<00:00,  2.60it/s, loss=1.327]\n",
      "stty: 'standard input': Inappropriate ioctl for device\n"
     ]
    },
    {
     "name": "stdout",
     "output_type": "stream",
     "text": [
      "--------------------------------------------------------------------------------\n",
      "    SOURCE: Japanese\n",
      "    TARGET: जापानी\n",
      " PREDICTED: जापानी\n",
      "--------------------------------------------------------------------------------\n",
      "    SOURCE: Update external\n",
      "    TARGET: अपडेट (अद्यतन) \n",
      " PREDICTED: अपडेट ( अद्यतन )\n",
      "--------------------------------------------------------------------------------\n"
     ]
    },
    {
     "name": "stderr",
     "output_type": "stream",
     "text": [
      "Processing Epoch 04:  15%|█▌        | 278/1800 [01:52<10:22,  2.45it/s, loss=1.906]"
     ]
    }
   ],
   "source": [
    "if __name__ == '__main__':\n",
    "\tconfig = get_config()\n",
    "\ttrain_model(config)"
   ]
  }
 ],
 "metadata": {
  "kernelspec": {
   "display_name": "Python 3",
   "language": "python",
   "name": "python3"
  },
  "language_info": {
   "codemirror_mode": {
    "name": "ipython",
    "version": 3
   },
   "file_extension": ".py",
   "mimetype": "text/x-python",
   "name": "python",
   "nbconvert_exporter": "python",
   "pygments_lexer": "ipython3",
   "version": "3.11.7"
  }
 },
 "nbformat": 4,
 "nbformat_minor": 2
}
