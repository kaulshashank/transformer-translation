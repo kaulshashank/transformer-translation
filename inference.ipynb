{
 "cells": [
  {
   "cell_type": "code",
   "execution_count": 1,
   "metadata": {},
   "outputs": [],
   "source": [
    "import torch\n",
    "import torch.nn as nn\n",
    "from config import get_config, latest_weights_file_path\n",
    "from train import get_model, get_ds, run_validation\n",
    "from translate import translate"
   ]
  },
  {
   "cell_type": "code",
   "execution_count": 2,
   "metadata": {},
   "outputs": [
    {
     "name": "stdout",
     "output_type": "stream",
     "text": [
      "Using device: cuda\n",
      "Max length of source sentence: 2176\n",
      "Max length of target sentence: 2068\n"
     ]
    },
    {
     "data": {
      "text/plain": [
       "<All keys matched successfully>"
      ]
     },
     "execution_count": 2,
     "metadata": {},
     "output_type": "execute_result"
    }
   ],
   "source": [
    "device = torch.device(\"cuda\" if torch.cuda.is_available() else \"cpu\")\n",
    "print(\"Using device:\", device)\n",
    "config = get_config()\n",
    "train_dataloader, val_dataloader, tokenizer_src, tokenizer_tgt = get_ds(config)\n",
    "model = get_model(config, tokenizer_src.get_vocab_size(), tokenizer_tgt.get_vocab_size()).to(device)\n",
    "\n",
    "# Load the pretrained weights\n",
    "model_filename = latest_weights_file_path(config)\n",
    "state = torch.load(model_filename)\n",
    "model.load_state_dict(state['model_state_dict'])"
   ]
  },
  {
   "cell_type": "code",
   "execution_count": 3,
   "metadata": {},
   "outputs": [
    {
     "name": "stderr",
     "output_type": "stream",
     "text": [
      "stty: 'standard input': Inappropriate ioctl for device\n"
     ]
    },
    {
     "name": "stdout",
     "output_type": "stream",
     "text": [
      "--------------------------------------------------------------------------------\n",
      "    SOURCE: Let neither their wealth nor their children please you. Through these Allah seeks to punish them in this life, and that their souls depart while they are unbelievers.\n",
      "    TARGET: अतः उनके माल तुम्हें मोहित न करें और न उनकी सन्तान ही। अल्लाह तो बस यह चाहता है कि उनके द्वारा उन्हें सांसारिक जीवन में यातना दे और उनके प्राण इस दशा में निकलें कि वे इनकार करनेवाले ही रहे\n",
      " PREDICTED: क्या आप निश्चित हैं कि आप % s को स्थायी तौर पर डिलीट करना चाहते हैं\n",
      "--------------------------------------------------------------------------------\n",
      "    SOURCE: Nachiketa alone stood unshaken.\n",
      "    TARGET: लेकिन नचिकेता अविचल खड़ा रहा। \n",
      " PREDICTED: के लिए हाइलाइट करें\n",
      "--------------------------------------------------------------------------------\n",
      "    SOURCE: Turcoman\n",
      "    TARGET: तुर्क़मेनियाई\n",
      " PREDICTED: डायलाग 1\n",
      "--------------------------------------------------------------------------------\n",
      "    SOURCE: The practical problems that call for solution are to ensure that a kidney transplant is not rejected by the immune response or to accentuate an inadequate immune attack on a malignant tumour. They require a deeper probe into the uncanny capacity of the body to recognise the intrusion of material foreign to itself, be it a virus, bacterium, cell or whatever, and to mobilise cells and cell products to help remove that particular sort of intruder with greater speed and effectiveness.\n",
      "    TARGET: जिन व्यावहारिक प्रश्नों के उत्तर ज्ञात करने के लिए प्रयास किये जा रहे हैं उनमें गुर्दे के प्रतिरोपणा के पश्चात शरीर द्वारा उसे अस्वीकार किया जाना तथा कैंसरीय ट्यूमर प्रतिरक्षा के दौरान किये जाने वाले हमलों को तीव्र बनाना सम्मिलित हैं. \n",
      " PREDICTED: एक नया प्रोजेक्ट बनाएं\n",
      "--------------------------------------------------------------------------------\n",
      "    SOURCE: Automatic Proxy Configuration\n",
      "    TARGET: स्वचालित प्रॉक्सी कॉन्फ़िगरेशनName\n",
      " PREDICTED: एक नया खेल प्रारंभ करें\n",
      "--------------------------------------------------------------------------------\n",
      "    SOURCE: cocotte\n",
      "    TARGET: वेशयुवती\n",
      " PREDICTED: डायलाग 1\n",
      "--------------------------------------------------------------------------------\n",
      "    SOURCE: The record attendance at Melbourne for a single day 's play was 90, 800 when Australia played the West Indies in 1960 - 61. 1960 - 61\n",
      "    TARGET: में जब मेलबोर्न में आस्ट्रेलिया और वेस्ट इंडीज के बीच मैच हुआ तो एक दिन का खेल देखने के लिए वहां 90,800 दर्शक मैदान में उपस्थित थें. \n",
      " PREDICTED: के लिए हाइलाइट करें\n",
      "--------------------------------------------------------------------------------\n",
      "    SOURCE: The birds keep in flocks of a dozen or more on dry fallow land.\n",
      "    TARGET: ये बंजर जमीन पर दर्जन या अधिक के झुंडों में रहती हैं। \n",
      " PREDICTED: के लिए हाइलाइट करें\n",
      "--------------------------------------------------------------------------------\n",
      "    SOURCE: happiness\n",
      "    TARGET: उल्लास\n",
      " PREDICTED: डायलाग 1\n",
      "--------------------------------------------------------------------------------\n",
      "    SOURCE: Although the people of India or their representatives had no hand in the creation of this document, and it suffered from several serious drawbacks, it cannot be denied that it was on the whole and in some respects a progressive step.\n",
      "    TARGET: हालांकि भारत की जनता या उसके प्रतिनिधियों का इस दस्तावेज के निर्माण में कोई हाथ नहीं था, और इसमें अनेक गंभीर खामियां थीं, फिर भी इस बात से इंकार नहीं किया जा सकता कि कुल मिलाकर तथा कई दृष्टियों से यह एक प्रगतिशील कदम था. \n",
      " PREDICTED: के लिए हाइलाइट करें\n",
      "--------------------------------------------------------------------------------\n"
     ]
    }
   ],
   "source": [
    "run_validation(model, val_dataloader, tokenizer_src, tokenizer_tgt, config['seq_len'], device, lambda msg: print(msg), 0, None, num_examples=10)"
   ]
  },
  {
   "cell_type": "code",
   "execution_count": 4,
   "metadata": {},
   "outputs": [
    {
     "name": "stdout",
     "output_type": "stream",
     "text": [
      "Using device: cuda\n",
      "    SOURCE: Why do I need to translate this?\n",
      " PREDICTED: फाइल चयन सीमा करने योग्य हो रही है  "
     ]
    }
   ],
   "source": [
    "t = translate(\"Why do I need to translate this?\")"
   ]
  }
 ],
 "metadata": {
  "kernelspec": {
   "display_name": "Python 3",
   "language": "python",
   "name": "python3"
  },
  "language_info": {
   "codemirror_mode": {
    "name": "ipython",
    "version": 3
   },
   "file_extension": ".py",
   "mimetype": "text/x-python",
   "name": "python",
   "nbconvert_exporter": "python",
   "pygments_lexer": "ipython3",
   "version": "3.11.7"
  }
 },
 "nbformat": 4,
 "nbformat_minor": 2
}
